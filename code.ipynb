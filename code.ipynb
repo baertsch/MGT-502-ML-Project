{
 "cells": [
  {
   "cell_type": "markdown",
   "metadata": {},
   "source": [
    "# Library Recommender"
   ]
  },
  {
   "cell_type": "markdown",
   "metadata": {},
   "source": [
    "## Import libraries and data"
   ]
  },
  {
   "cell_type": "code",
   "execution_count": 1,
   "metadata": {},
   "outputs": [],
   "source": [
    "import pandas as pd"
   ]
  },
  {
   "cell_type": "code",
   "execution_count": null,
   "metadata": {},
   "outputs": [
    {
     "data": {
      "text/html": [
       "<div>\n",
       "<style scoped>\n",
       "    .dataframe tbody tr th:only-of-type {\n",
       "        vertical-align: middle;\n",
       "    }\n",
       "\n",
       "    .dataframe tbody tr th {\n",
       "        vertical-align: top;\n",
       "    }\n",
       "\n",
       "    .dataframe thead th {\n",
       "        text-align: right;\n",
       "    }\n",
       "</style>\n",
       "<table border=\"1\" class=\"dataframe\">\n",
       "  <thead>\n",
       "    <tr style=\"text-align: right;\">\n",
       "      <th></th>\n",
       "      <th>user_id</th>\n",
       "      <th>recommendation</th>\n",
       "    </tr>\n",
       "  </thead>\n",
       "  <tbody>\n",
       "    <tr>\n",
       "      <th>0</th>\n",
       "      <td>0</td>\n",
       "      <td>3758 11248 9088 9895 5101 6074 9295 14050 1096...</td>\n",
       "    </tr>\n",
       "    <tr>\n",
       "      <th>1</th>\n",
       "      <td>1</td>\n",
       "      <td>3263 726 1589 14911 6432 10897 6484 7961 8249 ...</td>\n",
       "    </tr>\n",
       "    <tr>\n",
       "      <th>2</th>\n",
       "      <td>2</td>\n",
       "      <td>13508 9848 12244 2742 11120 2893 2461 5439 116...</td>\n",
       "    </tr>\n",
       "    <tr>\n",
       "      <th>3</th>\n",
       "      <td>3</td>\n",
       "      <td>2821 10734 6357 5934 2085 12608 12539 10551 10...</td>\n",
       "    </tr>\n",
       "    <tr>\n",
       "      <th>4</th>\n",
       "      <td>4</td>\n",
       "      <td>12425 219 11602 1487 14178 489 13888 2110 4413...</td>\n",
       "    </tr>\n",
       "    <tr>\n",
       "      <th>...</th>\n",
       "      <td>...</td>\n",
       "      <td>...</td>\n",
       "    </tr>\n",
       "    <tr>\n",
       "      <th>7833</th>\n",
       "      <td>7833</td>\n",
       "      <td>3915 10372 1921 6260 12503 6047 10331 11549 14...</td>\n",
       "    </tr>\n",
       "    <tr>\n",
       "      <th>7834</th>\n",
       "      <td>7834</td>\n",
       "      <td>2136 12498 10439 7427 5788 129 12770 2928 8122...</td>\n",
       "    </tr>\n",
       "    <tr>\n",
       "      <th>7835</th>\n",
       "      <td>7835</td>\n",
       "      <td>8540 2441 5690 12085 9514 1447 2355 2761 13437...</td>\n",
       "    </tr>\n",
       "    <tr>\n",
       "      <th>7836</th>\n",
       "      <td>7836</td>\n",
       "      <td>10948 11251 850 5048 6032 10357 6566 4402 7154...</td>\n",
       "    </tr>\n",
       "    <tr>\n",
       "      <th>7837</th>\n",
       "      <td>7837</td>\n",
       "      <td>14247 6646 7179 6639 3119 3698 9010 11496 695 ...</td>\n",
       "    </tr>\n",
       "  </tbody>\n",
       "</table>\n",
       "<p>7838 rows × 2 columns</p>\n",
       "</div>"
      ],
      "text/plain": [
       "      user_id                                     recommendation\n",
       "0           0  3758 11248 9088 9895 5101 6074 9295 14050 1096...\n",
       "1           1  3263 726 1589 14911 6432 10897 6484 7961 8249 ...\n",
       "2           2  13508 9848 12244 2742 11120 2893 2461 5439 116...\n",
       "3           3  2821 10734 6357 5934 2085 12608 12539 10551 10...\n",
       "4           4  12425 219 11602 1487 14178 489 13888 2110 4413...\n",
       "...       ...                                                ...\n",
       "7833     7833  3915 10372 1921 6260 12503 6047 10331 11549 14...\n",
       "7834     7834  2136 12498 10439 7427 5788 129 12770 2928 8122...\n",
       "7835     7835  8540 2441 5690 12085 9514 1447 2355 2761 13437...\n",
       "7836     7836  10948 11251 850 5048 6032 10357 6566 4402 7154...\n",
       "7837     7837  14247 6646 7179 6639 3119 3698 9010 11496 695 ...\n",
       "\n",
       "[7838 rows x 2 columns]"
      ]
     },
     "execution_count": 5,
     "metadata": {},
     "output_type": "execute_result"
    }
   ],
   "source": [
    "repo_url = \"https://raw.githubusercontent.com/baertsch/MGT-502-ML-Project/main/\"\n",
    "\n",
    "interactions_train_df = pd.read_csv(repo_url + \"kaggle_data/interactions_train.csv\")\n",
    "items_df = pd.read_csv(repo_url + \"kaggle_data/items.csv\")\n",
    "sample_submission_df = pd.read_csv(repo_url + \"kaggle_data/sample_submission.csv\")"
   ]
  }
 ],
 "metadata": {
  "kernelspec": {
   "display_name": "Python 3",
   "language": "python",
   "name": "python3"
  },
  "language_info": {
   "codemirror_mode": {
    "name": "ipython",
    "version": 3
   },
   "file_extension": ".py",
   "mimetype": "text/x-python",
   "name": "python",
   "nbconvert_exporter": "python",
   "pygments_lexer": "ipython3",
   "version": "3.11.11"
  }
 },
 "nbformat": 4,
 "nbformat_minor": 2
}
