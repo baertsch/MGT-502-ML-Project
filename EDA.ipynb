{
 "cells": [
  {
   "cell_type": "markdown",
   "metadata": {},
   "source": [
    "### MGT-502 Final Project\n",
    "# \n",
    "## Exploratory Data Analysis (EDA)\n",
    "__Nadège Baertschi & Zélia Décaillet__\n",
    "\n",
    "_May 2025_"
   ]
  },
  {
   "cell_type": "code",
   "execution_count": 24,
   "metadata": {},
   "outputs": [],
   "source": [
    "import pandas as pd\n",
    "import numpy as np\n",
    "from sklearn.metrics.pairwise import cosine_similarity\n",
    "import matplotlib.pyplot as plt\n",
    "import seaborn as sns"
   ]
  },
  {
   "cell_type": "code",
   "execution_count": 33,
   "metadata": {},
   "outputs": [
    {
     "data": {
      "text/html": [
       "<div>\n",
       "<style scoped>\n",
       "    .dataframe tbody tr th:only-of-type {\n",
       "        vertical-align: middle;\n",
       "    }\n",
       "\n",
       "    .dataframe tbody tr th {\n",
       "        vertical-align: top;\n",
       "    }\n",
       "\n",
       "    .dataframe thead th {\n",
       "        text-align: right;\n",
       "    }\n",
       "</style>\n",
       "<table border=\"1\" class=\"dataframe\">\n",
       "  <thead>\n",
       "    <tr style=\"text-align: right;\">\n",
       "      <th></th>\n",
       "      <th>user_id</th>\n",
       "      <th>i</th>\n",
       "      <th>t</th>\n",
       "    </tr>\n",
       "  </thead>\n",
       "  <tbody>\n",
       "    <tr>\n",
       "      <th>0</th>\n",
       "      <td>4456</td>\n",
       "      <td>8581</td>\n",
       "      <td>1.687541e+09</td>\n",
       "    </tr>\n",
       "    <tr>\n",
       "      <th>1</th>\n",
       "      <td>142</td>\n",
       "      <td>1964</td>\n",
       "      <td>1.679585e+09</td>\n",
       "    </tr>\n",
       "    <tr>\n",
       "      <th>2</th>\n",
       "      <td>362</td>\n",
       "      <td>3705</td>\n",
       "      <td>1.706872e+09</td>\n",
       "    </tr>\n",
       "    <tr>\n",
       "      <th>3</th>\n",
       "      <td>1809</td>\n",
       "      <td>11317</td>\n",
       "      <td>1.673533e+09</td>\n",
       "    </tr>\n",
       "    <tr>\n",
       "      <th>4</th>\n",
       "      <td>4384</td>\n",
       "      <td>1323</td>\n",
       "      <td>1.681402e+09</td>\n",
       "    </tr>\n",
       "  </tbody>\n",
       "</table>\n",
       "</div>"
      ],
      "text/plain": [
       "   user_id      i             t\n",
       "0     4456   8581  1.687541e+09\n",
       "1      142   1964  1.679585e+09\n",
       "2      362   3705  1.706872e+09\n",
       "3     1809  11317  1.673533e+09\n",
       "4     4384   1323  1.681402e+09"
      ]
     },
     "metadata": {},
     "output_type": "display_data"
    },
    {
     "data": {
      "text/html": [
       "<div>\n",
       "<style scoped>\n",
       "    .dataframe tbody tr th:only-of-type {\n",
       "        vertical-align: middle;\n",
       "    }\n",
       "\n",
       "    .dataframe tbody tr th {\n",
       "        vertical-align: top;\n",
       "    }\n",
       "\n",
       "    .dataframe thead th {\n",
       "        text-align: right;\n",
       "    }\n",
       "</style>\n",
       "<table border=\"1\" class=\"dataframe\">\n",
       "  <thead>\n",
       "    <tr style=\"text-align: right;\">\n",
       "      <th></th>\n",
       "      <th>Title</th>\n",
       "      <th>Author</th>\n",
       "      <th>ISBN Valid</th>\n",
       "      <th>Publisher</th>\n",
       "      <th>Subjects</th>\n",
       "      <th>i</th>\n",
       "    </tr>\n",
       "  </thead>\n",
       "  <tbody>\n",
       "    <tr>\n",
       "      <th>0</th>\n",
       "      <td>Classification décimale universelle : édition ...</td>\n",
       "      <td>NaN</td>\n",
       "      <td>9782871303336; 2871303339</td>\n",
       "      <td>Ed du CEFAL</td>\n",
       "      <td>Classification décimale universelle; Indexatio...</td>\n",
       "      <td>0</td>\n",
       "    </tr>\n",
       "    <tr>\n",
       "      <th>1</th>\n",
       "      <td>Les interactions dans l'enseignement des langu...</td>\n",
       "      <td>Cicurel, Francine, 1947-</td>\n",
       "      <td>9782278058327; 2278058320</td>\n",
       "      <td>Didier</td>\n",
       "      <td>didactique--langue étrangère - enseignement; d...</td>\n",
       "      <td>1</td>\n",
       "    </tr>\n",
       "    <tr>\n",
       "      <th>2</th>\n",
       "      <td>Histoire de vie et recherche biographique : pe...</td>\n",
       "      <td>NaN</td>\n",
       "      <td>2343190194; 9782343190198</td>\n",
       "      <td>L'Harmattan</td>\n",
       "      <td>Histoires de vie en sociologie; Sciences socia...</td>\n",
       "      <td>2</td>\n",
       "    </tr>\n",
       "    <tr>\n",
       "      <th>3</th>\n",
       "      <td>Ce livre devrait me permettre de résoudre le c...</td>\n",
       "      <td>Mazas, Sylvain, 1980-</td>\n",
       "      <td>9782365350020; 236535002X; 9782365350488; 2365...</td>\n",
       "      <td>Vraoum!</td>\n",
       "      <td>Moyen-Orient; Bandes dessinées autobiographiqu...</td>\n",
       "      <td>3</td>\n",
       "    </tr>\n",
       "    <tr>\n",
       "      <th>4</th>\n",
       "      <td>Les années glorieuses : roman /</td>\n",
       "      <td>Lemaitre, Pierre, 1951-</td>\n",
       "      <td>9782702180815; 2702180817; 9782702183618; 2702...</td>\n",
       "      <td>Calmann-Lévy</td>\n",
       "      <td>France--1945-1975; Roman historique; Roman fra...</td>\n",
       "      <td>4</td>\n",
       "    </tr>\n",
       "  </tbody>\n",
       "</table>\n",
       "</div>"
      ],
      "text/plain": [
       "                                               Title  \\\n",
       "0  Classification décimale universelle : édition ...   \n",
       "1  Les interactions dans l'enseignement des langu...   \n",
       "2  Histoire de vie et recherche biographique : pe...   \n",
       "3  Ce livre devrait me permettre de résoudre le c...   \n",
       "4                    Les années glorieuses : roman /   \n",
       "\n",
       "                     Author  \\\n",
       "0                       NaN   \n",
       "1  Cicurel, Francine, 1947-   \n",
       "2                       NaN   \n",
       "3     Mazas, Sylvain, 1980-   \n",
       "4   Lemaitre, Pierre, 1951-   \n",
       "\n",
       "                                          ISBN Valid     Publisher  \\\n",
       "0                          9782871303336; 2871303339   Ed du CEFAL   \n",
       "1                          9782278058327; 2278058320        Didier   \n",
       "2                          2343190194; 9782343190198   L'Harmattan   \n",
       "3  9782365350020; 236535002X; 9782365350488; 2365...       Vraoum!   \n",
       "4  9782702180815; 2702180817; 9782702183618; 2702...  Calmann-Lévy   \n",
       "\n",
       "                                            Subjects  i  \n",
       "0  Classification décimale universelle; Indexatio...  0  \n",
       "1  didactique--langue étrangère - enseignement; d...  1  \n",
       "2  Histoires de vie en sociologie; Sciences socia...  2  \n",
       "3  Moyen-Orient; Bandes dessinées autobiographiqu...  3  \n",
       "4  France--1945-1975; Roman historique; Roman fra...  4  "
      ]
     },
     "metadata": {},
     "output_type": "display_data"
    }
   ],
   "source": [
    "# Github repository URL\n",
    "repo_url = \"https://raw.githubusercontent.com/baertsch/MGT-502-ML-Project/main/\"\n",
    "\n",
    "# Load datasets\n",
    "interactions_df = pd.read_csv(repo_url + \"kaggle_data/interactions_train.csv\")\n",
    "interactions_df.rename(columns={\"u\": \"user_id\"}, inplace=True)\n",
    "\n",
    "# Orginal items csv with a lot of missing data\n",
    "items_df = pd.read_csv(repo_url + \"kaggle_data/items.csv\")\n",
    "\n",
    "# Display\n",
    "display(interactions_df.head())\n",
    "display(items_df.head())"
   ]
  },
  {
   "cell_type": "code",
   "execution_count": 26,
   "metadata": {},
   "outputs": [
    {
     "data": {
      "text/html": [
       "<div>\n",
       "<style scoped>\n",
       "    .dataframe tbody tr th:only-of-type {\n",
       "        vertical-align: middle;\n",
       "    }\n",
       "\n",
       "    .dataframe tbody tr th {\n",
       "        vertical-align: top;\n",
       "    }\n",
       "\n",
       "    .dataframe thead th {\n",
       "        text-align: right;\n",
       "    }\n",
       "</style>\n",
       "<table border=\"1\" class=\"dataframe\">\n",
       "  <thead>\n",
       "    <tr style=\"text-align: right;\">\n",
       "      <th></th>\n",
       "      <th>Title</th>\n",
       "      <th>Author</th>\n",
       "      <th>ISBN Valid</th>\n",
       "      <th>Publisher</th>\n",
       "      <th>Subjects</th>\n",
       "      <th>i</th>\n",
       "    </tr>\n",
       "  </thead>\n",
       "  <tbody>\n",
       "    <tr>\n",
       "      <th>1323</th>\n",
       "      <td>L'examen clinique de l'aîné : guide d'évaluati...</td>\n",
       "      <td>Voyer, Philippe</td>\n",
       "      <td>9782761372022; 2761372026</td>\n",
       "      <td>Pearson</td>\n",
       "      <td>Nursing Care; Geriatrics; Health Services for ...</td>\n",
       "      <td>1323</td>\n",
       "    </tr>\n",
       "  </tbody>\n",
       "</table>\n",
       "</div>"
      ],
      "text/plain": [
       "                                                  Title           Author  \\\n",
       "1323  L'examen clinique de l'aîné : guide d'évaluati...  Voyer, Philippe   \n",
       "\n",
       "                     ISBN Valid Publisher  \\\n",
       "1323  9782761372022; 2761372026   Pearson   \n",
       "\n",
       "                                               Subjects     i  \n",
       "1323  Nursing Care; Geriatrics; Health Services for ...  1323  "
      ]
     },
     "execution_count": 26,
     "metadata": {},
     "output_type": "execute_result"
    }
   ],
   "source": [
    "items_df[items_df['i']==1323]"
   ]
  },
  {
   "cell_type": "markdown",
   "metadata": {},
   "source": [
    "## Let's explore the data provided by Kaggle"
   ]
  },
  {
   "cell_type": "code",
   "execution_count": 27,
   "metadata": {},
   "outputs": [
    {
     "name": "stdout",
     "output_type": "stream",
     "text": [
      "Number of interactions in the dataset: 87047\n",
      "Number of users in the dataset: 7838\n",
      "Number of items in the library: 15291\n",
      "Number of viewed items in the dataset: 15109\n",
      "Number of items in the library, which no user has interacted with: 182\n"
     ]
    }
   ],
   "source": [
    "n_users = interactions_df[\"user_id\"].nunique()\n",
    "n_items = items_df['i'].nunique()\n",
    "n_viewed_items = interactions_df[\"i\"].nunique()\n",
    "n_interactions = interactions_df.shape[0]\n",
    "print(f\"Number of interactions in the dataset: {n_interactions}\")\n",
    "print(f\"Number of users in the dataset: {n_users}\")\n",
    "print(f\"Number of items in the library: {n_items}\")\n",
    "print(f\"Number of viewed items in the dataset: {n_viewed_items}\")\n",
    "print(f\"Number of items in the library, which no user has interacted with: {n_items - n_viewed_items}\")"
   ]
  },
  {
   "cell_type": "markdown",
   "metadata": {},
   "source": [
    "### Let's see how the number of interactions per user is distributed"
   ]
  },
  {
   "cell_type": "code",
   "execution_count": 30,
   "metadata": {},
   "outputs": [],
   "source": [
    "import os\n",
    "\n",
    "os.makedirs(\"plots\", exist_ok=True)"
   ]
  },
  {
   "cell_type": "code",
   "execution_count": 31,
   "metadata": {},
   "outputs": [
    {
     "name": "stdout",
     "output_type": "stream",
     "text": [
      "Average number of interactions per user: 11.11\n",
      "Minimum number of interactions per user: 3\n",
      "Maximum number of interactions per user: 385\n",
      "Median number of interactions per user: 6.00\n"
     ]
    },
    {
     "data": {
      "image/png": "[encoded data removed]",
      "text/plain": [
       "<Figure size 1500x600 with 1 Axes>"
      ]
     },
     "metadata": {},
     "output_type": "display_data"
    }
   ],
   "source": [
    "interactions_per_user = interactions_df.groupby('user_id').size()\n",
    "print(f\"Average number of interactions per user: {interactions_per_user.mean():.2f}\")\n",
    "print(f\"Minimum number of interactions per user: {interactions_per_user.min()}\")\n",
    "print(f\"Maximum number of interactions per user: {interactions_per_user.max()}\")\n",
    "print(f\"Median number of interactions per user: {interactions_per_user.median():.2f}\")\n",
    "# Plot distribution of interactions per user\n",
    "plt.figure(figsize=(15, 6))\n",
    "sns.histplot(interactions_per_user, bins=200, kde=True)\n",
    "plt.title('Distribution of Interactions per User')\n",
    "plt.xlabel('Number of Interactions')\n",
    "plt.ylabel('Frequency')\n",
    "plt.savefig(\"plots/interactions_per_user.png\", dpi=300, bbox_inches='tight')"
   ]
  },
  {
   "cell_type": "markdown",
   "metadata": {},
   "source": [
    "### What about the number of interactions per item?"
   ]
  },
  {
   "cell_type": "code",
   "execution_count": 34,
   "metadata": {},
   "outputs": [
    {
     "name": "stderr",
     "output_type": "stream",
     "text": [
      "/var/folders/3d/zlkn8h8d2yx5345bf7csn9bh0000gn/T/ipykernel_58367/3754619249.py:3: FutureWarning: A value is trying to be set on a copy of a DataFrame or Series through chained assignment using an inplace method.\n",
      "The behavior will change in pandas 3.0. This inplace method will never work because the intermediate object on which we are setting values always behaves as a copy.\n",
      "\n",
      "For example, when doing 'df[col].method(value, inplace=True)', try using 'df.method({col: value}, inplace=True)' or df[col] = df[col].method(value) instead, to perform the operation inplace on the original object.\n",
      "\n",
      "\n",
      "  items_df['n_interactions'].fillna(0, inplace=True)\n"
     ]
    },
    {
     "name": "stdout",
     "output_type": "stream",
     "text": [
      "Average number of interactions per item: 5.69\n",
      "Minimum number of interactions per item: 0.0\n",
      "Maximum number of interactions per item: 380.0\n",
      "Median number of interactions per item: 4.00\n"
     ]
    },
    {
     "data": {
      "image/png": "[encoded data removed]",
      "text/plain": [
       "<Figure size 1000x600 with 1 Axes>"
      ]
     },
     "metadata": {},
     "output_type": "display_data"
    },
    {
     "data": {
      "text/plain": [
       "<Figure size 640x480 with 0 Axes>"
      ]
     },
     "metadata": {},
     "output_type": "display_data"
    }
   ],
   "source": [
    "interactions_per_item = interactions_df.groupby('i').size()\n",
    "items_df=items_df.merge(interactions_per_item.rename('n_interactions'), on='i', how='left')\n",
    "items_df['n_interactions'].fillna(0, inplace=True)\n",
    "print(f\"Average number of interactions per item: {items_df['n_interactions'].mean():.2f}\")\n",
    "print(f\"Minimum number of interactions per item: {items_df['n_interactions'].min()}\")\n",
    "print(f\"Maximum number of interactions per item: {items_df['n_interactions'].max()}\")\n",
    "print(f\"Median number of interactions per item: {items_df['n_interactions'].median():.2f}\")\n",
    "plt.figure(figsize=(10, 6))\n",
    "sns.histplot(interactions_per_item,bins=100, kde=True)\n",
    "plt.title('Distribution of Interactions Per Item')\n",
    "plt.xlabel('Number of Interactions')\n",
    "plt.ylabel('Frequency')\n",
    "plt.show()\n",
    "plt.savefig(\"plots/interactions_per_item.png\", dpi=300, bbox_inches='tight')"
   ]
  },
  {
   "cell_type": "markdown",
   "metadata": {},
   "source": [
    "### What are the most popular books?"
   ]
  },
  {
   "cell_type": "code",
   "execution_count": null,
   "metadata": {},
   "outputs": [
    {
     "data": {
      "text/html": [
       "<div>\n",
       "<style scoped>\n",
       "    .dataframe tbody tr th:only-of-type {\n",
       "        vertical-align: middle;\n",
       "    }\n",
       "\n",
       "    .dataframe tbody tr th {\n",
       "        vertical-align: top;\n",
       "    }\n",
       "\n",
       "    .dataframe thead th {\n",
       "        text-align: right;\n",
       "    }\n",
       "</style>\n",
       "<table border=\"1\" class=\"dataframe\">\n",
       "  <thead>\n",
       "    <tr style=\"text-align: right;\">\n",
       "      <th></th>\n",
       "      <th>i</th>\n",
       "      <th>count</th>\n",
       "    </tr>\n",
       "  </thead>\n",
       "  <tbody>\n",
       "    <tr>\n",
       "      <th>11264</th>\n",
       "      <td>11366</td>\n",
       "      <td>380</td>\n",
       "    </tr>\n",
       "    <tr>\n",
       "      <th>3030</th>\n",
       "      <td>3055</td>\n",
       "      <td>357</td>\n",
       "    </tr>\n",
       "    <tr>\n",
       "      <th>10623</th>\n",
       "      <td>10715</td>\n",
       "      <td>305</td>\n",
       "    </tr>\n",
       "    <tr>\n",
       "      <th>8921</th>\n",
       "      <td>8999</td>\n",
       "      <td>257</td>\n",
       "    </tr>\n",
       "    <tr>\n",
       "      <th>601</th>\n",
       "      <td>611</td>\n",
       "      <td>217</td>\n",
       "    </tr>\n",
       "    <tr>\n",
       "      <th>4391</th>\n",
       "      <td>4426</td>\n",
       "      <td>189</td>\n",
       "    </tr>\n",
       "    <tr>\n",
       "      <th>53</th>\n",
       "      <td>53</td>\n",
       "      <td>178</td>\n",
       "    </tr>\n",
       "    <tr>\n",
       "      <th>2796</th>\n",
       "      <td>2820</td>\n",
       "      <td>177</td>\n",
       "    </tr>\n",
       "    <tr>\n",
       "      <th>13765</th>\n",
       "      <td>13885</td>\n",
       "      <td>151</td>\n",
       "    </tr>\n",
       "    <tr>\n",
       "      <th>14416</th>\n",
       "      <td>14555</td>\n",
       "      <td>151</td>\n",
       "    </tr>\n",
       "  </tbody>\n",
       "</table>\n",
       "</div>"
      ],
      "text/plain": [
       "           i  count\n",
       "11264  11366    380\n",
       "3030    3055    357\n",
       "10623  10715    305\n",
       "8921    8999    257\n",
       "601      611    217\n",
       "4391    4426    189\n",
       "53        53    178\n",
       "2796    2820    177\n",
       "13765  13885    151\n",
       "14416  14555    151"
      ]
     },
     "execution_count": 15,
     "metadata": {},
     "output_type": "execute_result"
    }
   ],
   "source": [
    "pop_books = interactions_df.groupby('i').size().reset_index(name='count')\n",
    "pop_books = pop_books.sort_values(by='count', ascending=False)"
   ]
  },
  {
   "cell_type": "code",
   "execution_count": 16,
   "metadata": {},
   "outputs": [
    {
     "name": "stdout",
     "output_type": "stream",
     "text": [
      "Top 1 book in our librabry:\n",
      "Le Petit Robert : dictionnaire alphabétique et analogique de la langue française /\n",
      "nan\n",
      "\"Petit Robert\"; Français (langue); Dictionnaires français\n",
      "\n",
      "\n",
      "Top 2 book in our librabry:\n",
      "Demon slayer /\n",
      "Gotōge, Koyoharu\n",
      "Mangas\n",
      "\n",
      "\n",
      "Top 3 book in our librabry:\n",
      "Vagabond /\n",
      "Inoué, Takehiko\n",
      "Bandes dessinées; Mangas\n",
      "\n",
      "\n",
      "Top 4 book in our librabry:\n",
      "Spy x Family /\n",
      "Endo, Tatsuya\n",
      "Espionnage; Famille; Magie; Mangas; Shônen\n",
      "\n",
      "\n",
      "Top 5 book in our librabry:\n",
      "L'Arabe du futur /\n",
      "Sattouf, Riad\n",
      "Moyen-Orient--20e siècle; Bandes dessinées autobiographiques; Récits personnels; Bandes dessinées\n",
      "\n",
      "\n",
      "Top 6 book in our librabry:\n",
      "The Promised Neverland /\n",
      "Shirai, Kaiu\n",
      "Shônen; Mangas; Bandes dessinées\n",
      "\n",
      "\n",
      "Top 7 book in our librabry:\n",
      "Fullmetal alchemist /\n",
      "Arakawa, Hiromu, 1973-\n",
      "Shônen; Mangas; Bandes dessinées\n",
      "\n",
      "\n",
      "Top 8 book in our librabry:\n",
      "Soins infirmiers : médecine et chirurgie /\n",
      "Brunner, Lillian Sholtis\n",
      "soins infirmiers--[manuel]; Nursing Care; Perioperative Nursing; Soins infirmiers; Chirurgie; [Manuels d'enseignement supérieur]; [Problèmes et exercices]\n",
      "\n",
      "\n",
      "Top 9 book in our librabry:\n",
      "Pons Kompaktwörterbuch : Französisch-Deutsch, Deutsch-Französisch /\n",
      "nan\n",
      "allemand (langue)--français (langue)--[dictionnaire multilingue]\n",
      "\n",
      "\n",
      "Top 10 book in our librabry:\n",
      "Tokyo revengers /\n",
      "Wakui, Ken\n",
      "Mangas\n",
      "\n",
      "\n"
     ]
    }
   ],
   "source": [
    "pop_books_idx = pop_books.iloc[:10]['i'].values.tolist()\n",
    "for _,i in enumerate(pop_books_idx):\n",
    "    print(f\"Top {_+1} book in our librabry:\")\n",
    "    print(items_df[items_df['i'] == i]['Title'].values[0])\n",
    "    print(items_df[items_df['i'] == i]['Author'].values[0])\n",
    "    print(items_df[items_df['i'] == i]['Subjects'].values[0])\n",
    "    print('\\n')\n",
    "    "
   ]
  },
  {
   "cell_type": "code",
   "execution_count": 17,
   "metadata": {},
   "outputs": [
    {
     "data": {
      "text/html": [
       "<div>\n",
       "<style scoped>\n",
       "    .dataframe tbody tr th:only-of-type {\n",
       "        vertical-align: middle;\n",
       "    }\n",
       "\n",
       "    .dataframe tbody tr th {\n",
       "        vertical-align: top;\n",
       "    }\n",
       "\n",
       "    .dataframe thead th {\n",
       "        text-align: right;\n",
       "    }\n",
       "</style>\n",
       "<table border=\"1\" class=\"dataframe\">\n",
       "  <thead>\n",
       "    <tr style=\"text-align: right;\">\n",
       "      <th></th>\n",
       "      <th>Title</th>\n",
       "      <th>Author</th>\n",
       "      <th>ISBN Valid</th>\n",
       "      <th>Publisher</th>\n",
       "      <th>Subjects</th>\n",
       "      <th>i</th>\n",
       "      <th>n_interactions</th>\n",
       "    </tr>\n",
       "  </thead>\n",
       "  <tbody>\n",
       "    <tr>\n",
       "      <th>53</th>\n",
       "      <td>Fullmetal alchemist /</td>\n",
       "      <td>Arakawa, Hiromu, 1973-</td>\n",
       "      <td>9782351420171; 2351420179; 9782351420188; 2351...</td>\n",
       "      <td>Kurokawa</td>\n",
       "      <td>Shônen; Mangas; Bandes dessinées</td>\n",
       "      <td>53</td>\n",
       "      <td>178.0</td>\n",
       "    </tr>\n",
       "    <tr>\n",
       "      <th>611</th>\n",
       "      <td>L'Arabe du futur /</td>\n",
       "      <td>Sattouf, Riad</td>\n",
       "      <td>9782370730145; 2370730145; 9782370730541; 2370...</td>\n",
       "      <td>Allary éditions</td>\n",
       "      <td>Moyen-Orient--20e siècle; Bandes dessinées aut...</td>\n",
       "      <td>611</td>\n",
       "      <td>217.0</td>\n",
       "    </tr>\n",
       "    <tr>\n",
       "      <th>2820</th>\n",
       "      <td>Soins infirmiers : médecine et chirurgie /</td>\n",
       "      <td>Brunner, Lillian Sholtis</td>\n",
       "      <td>9782804165567; 2804165566; 9782804165574; 2804...</td>\n",
       "      <td>De Boeck Université</td>\n",
       "      <td>soins infirmiers--[manuel]; Nursing Care; Peri...</td>\n",
       "      <td>2820</td>\n",
       "      <td>177.0</td>\n",
       "    </tr>\n",
       "    <tr>\n",
       "      <th>3055</th>\n",
       "      <td>Demon slayer /</td>\n",
       "      <td>Gotōge, Koyoharu</td>\n",
       "      <td>9782809482317; 2809482314; 9782809482324; 2809...</td>\n",
       "      <td>Panini manga</td>\n",
       "      <td>Mangas</td>\n",
       "      <td>3055</td>\n",
       "      <td>357.0</td>\n",
       "    </tr>\n",
       "    <tr>\n",
       "      <th>4426</th>\n",
       "      <td>The Promised Neverland /</td>\n",
       "      <td>Shirai, Kaiu</td>\n",
       "      <td>9782820342706; 2820342701; 9782820332233; 2820...</td>\n",
       "      <td>Kazé Manga</td>\n",
       "      <td>Shônen; Mangas; Bandes dessinées</td>\n",
       "      <td>4426</td>\n",
       "      <td>189.0</td>\n",
       "    </tr>\n",
       "    <tr>\n",
       "      <th>8999</th>\n",
       "      <td>Spy x Family /</td>\n",
       "      <td>Endo, Tatsuya</td>\n",
       "      <td>9782380710243; 2380710244; 9782380710250; 2380...</td>\n",
       "      <td>Kurokawa</td>\n",
       "      <td>Espionnage; Famille; Magie; Mangas; Shônen</td>\n",
       "      <td>8999</td>\n",
       "      <td>257.0</td>\n",
       "    </tr>\n",
       "    <tr>\n",
       "      <th>10715</th>\n",
       "      <td>Vagabond /</td>\n",
       "      <td>Inoué, Takehiko</td>\n",
       "      <td>9782845800670; 2845800673; 9782845801158; 2845...</td>\n",
       "      <td>Tonkam</td>\n",
       "      <td>Bandes dessinées; Mangas</td>\n",
       "      <td>10715</td>\n",
       "      <td>305.0</td>\n",
       "    </tr>\n",
       "    <tr>\n",
       "      <th>11366</th>\n",
       "      <td>Le Petit Robert : dictionnaire alphabétique et...</td>\n",
       "      <td>NaN</td>\n",
       "      <td>9782321008583; 232100858X</td>\n",
       "      <td>Le Robert</td>\n",
       "      <td>\"Petit Robert\"; Français (langue); Dictionnair...</td>\n",
       "      <td>11366</td>\n",
       "      <td>380.0</td>\n",
       "    </tr>\n",
       "    <tr>\n",
       "      <th>13885</th>\n",
       "      <td>Pons Kompaktwörterbuch : Französisch-Deutsch, ...</td>\n",
       "      <td>NaN</td>\n",
       "      <td>9783125173446; 3125173442</td>\n",
       "      <td>Pons</td>\n",
       "      <td>allemand (langue)--français (langue)--[diction...</td>\n",
       "      <td>13885</td>\n",
       "      <td>151.0</td>\n",
       "    </tr>\n",
       "    <tr>\n",
       "      <th>14555</th>\n",
       "      <td>Tokyo revengers /</td>\n",
       "      <td>Wakui, Ken</td>\n",
       "      <td>9782344035290; 234403529X; 9782344035306; 2344...</td>\n",
       "      <td>Glénat</td>\n",
       "      <td>Mangas</td>\n",
       "      <td>14555</td>\n",
       "      <td>151.0</td>\n",
       "    </tr>\n",
       "  </tbody>\n",
       "</table>\n",
       "</div>"
      ],
      "text/plain": [
       "                                                   Title  \\\n",
       "53                                 Fullmetal alchemist /   \n",
       "611                                   L'Arabe du futur /   \n",
       "2820          Soins infirmiers : médecine et chirurgie /   \n",
       "3055                                      Demon slayer /   \n",
       "4426                            The Promised Neverland /   \n",
       "8999                                      Spy x Family /   \n",
       "10715                                         Vagabond /   \n",
       "11366  Le Petit Robert : dictionnaire alphabétique et...   \n",
       "13885  Pons Kompaktwörterbuch : Französisch-Deutsch, ...   \n",
       "14555                                  Tokyo revengers /   \n",
       "\n",
       "                         Author  \\\n",
       "53       Arakawa, Hiromu, 1973-   \n",
       "611               Sattouf, Riad   \n",
       "2820   Brunner, Lillian Sholtis   \n",
       "3055           Gotōge, Koyoharu   \n",
       "4426               Shirai, Kaiu   \n",
       "8999              Endo, Tatsuya   \n",
       "10715           Inoué, Takehiko   \n",
       "11366                       NaN   \n",
       "13885                       NaN   \n",
       "14555                Wakui, Ken   \n",
       "\n",
       "                                              ISBN Valid            Publisher  \\\n",
       "53     9782351420171; 2351420179; 9782351420188; 2351...             Kurokawa   \n",
       "611    9782370730145; 2370730145; 9782370730541; 2370...      Allary éditions   \n",
       "2820   9782804165567; 2804165566; 9782804165574; 2804...  De Boeck Université   \n",
       "3055   9782809482317; 2809482314; 9782809482324; 2809...         Panini manga   \n",
       "4426   9782820342706; 2820342701; 9782820332233; 2820...           Kazé Manga   \n",
       "8999   9782380710243; 2380710244; 9782380710250; 2380...             Kurokawa   \n",
       "10715  9782845800670; 2845800673; 9782845801158; 2845...               Tonkam   \n",
       "11366                          9782321008583; 232100858X            Le Robert   \n",
       "13885                          9783125173446; 3125173442                 Pons   \n",
       "14555  9782344035290; 234403529X; 9782344035306; 2344...               Glénat   \n",
       "\n",
       "                                                Subjects      i  \\\n",
       "53                      Shônen; Mangas; Bandes dessinées     53   \n",
       "611    Moyen-Orient--20e siècle; Bandes dessinées aut...    611   \n",
       "2820   soins infirmiers--[manuel]; Nursing Care; Peri...   2820   \n",
       "3055                                              Mangas   3055   \n",
       "4426                    Shônen; Mangas; Bandes dessinées   4426   \n",
       "8999          Espionnage; Famille; Magie; Mangas; Shônen   8999   \n",
       "10715                           Bandes dessinées; Mangas  10715   \n",
       "11366  \"Petit Robert\"; Français (langue); Dictionnair...  11366   \n",
       "13885  allemand (langue)--français (langue)--[diction...  13885   \n",
       "14555                                             Mangas  14555   \n",
       "\n",
       "       n_interactions  \n",
       "53              178.0  \n",
       "611             217.0  \n",
       "2820            177.0  \n",
       "3055            357.0  \n",
       "4426            189.0  \n",
       "8999            257.0  \n",
       "10715           305.0  \n",
       "11366           380.0  \n",
       "13885           151.0  \n",
       "14555           151.0  "
      ]
     },
     "execution_count": 17,
     "metadata": {},
     "output_type": "execute_result"
    }
   ],
   "source": [
    "items_df[items_df['i'].isin(pop_books_idx)]"
   ]
  },
  {
   "cell_type": "markdown",
   "metadata": {},
   "source": [
    "### Any missing info in the items dataframe?"
   ]
  },
  {
   "cell_type": "code",
   "execution_count": 13,
   "metadata": {},
   "outputs": [
    {
     "data": {
      "text/plain": [
       "Title            0\n",
       "Author        2653\n",
       "ISBN Valid     723\n",
       "Publisher       25\n",
       "Subjects      2223\n",
       "i                0\n",
       "dtype: int64"
      ]
     },
     "execution_count": 13,
     "metadata": {},
     "output_type": "execute_result"
    }
   ],
   "source": [
    "items_df.isna().sum()"
   ]
  },
  {
   "cell_type": "markdown",
   "metadata": {},
   "source": [
    "### Who are the biggest authors?"
   ]
  },
  {
   "cell_type": "code",
   "execution_count": 35,
   "metadata": {},
   "outputs": [
    {
     "data": {
      "image/png": "[encoded data removed]",
      "text/plain": [
       "<Figure size 1000x600 with 1 Axes>"
      ]
     },
     "metadata": {},
     "output_type": "display_data"
    },
    {
     "data": {
      "text/plain": [
       "<Figure size 640x480 with 0 Axes>"
      ]
     },
     "metadata": {},
     "output_type": "display_data"
    }
   ],
   "source": [
    "author_counts = items_df['Author'].value_counts()\n",
    "author_counts=author_counts.head(10)\n",
    "author_counts = author_counts.sort_values(ascending=True)\n",
    "\n",
    "plt.figure(figsize=(10, 6))\n",
    "author_counts.plot(kind='barh')\n",
    "plt.title('Top 10 Authors with Most Books')\n",
    "plt.xlabel('Author')\n",
    "plt.ylabel('Number of Books')\n",
    "plt.show()\n",
    "plt.savefig(\"plots/top_10_authors.png\", dpi=300, bbox_inches='tight')"
   ]
  },
  {
   "cell_type": "code",
   "execution_count": 20,
   "metadata": {},
   "outputs": [
    {
     "data": {
      "text/plain": [
       "Author\n",
       "Ferry, Luc                 14\n",
       "Robert, Paul, 1910-1980    14\n",
       "Sattouf, Riad              14\n",
       "Ohba, Tsugumi              14\n",
       "Lupano, Wilfrid            17\n",
       "Horikoshi, Kohei           17\n",
       "Ernaux, Annie              21\n",
       "Bourdieu, Pierre           21\n",
       "Pastoureau, Michel         21\n",
       "Pompéï, Christine          29\n",
       "Name: count, dtype: int64"
      ]
     },
     "execution_count": 20,
     "metadata": {},
     "output_type": "execute_result"
    }
   ],
   "source": [
    "author_counts"
   ]
  },
  {
   "cell_type": "markdown",
   "metadata": {},
   "source": [
    "### Most popular subjects?"
   ]
  },
  {
   "cell_type": "code",
   "execution_count": 36,
   "metadata": {},
   "outputs": [
    {
     "data": {
      "image/png": "[encoded data removed]",
      "text/plain": [
       "<Figure size 1000x600 with 1 Axes>"
      ]
     },
     "metadata": {},
     "output_type": "display_data"
    },
    {
     "data": {
      "text/plain": [
       "<Figure size 640x480 with 0 Axes>"
      ]
     },
     "metadata": {},
     "output_type": "display_data"
    }
   ],
   "source": [
    "genre_counts = items_df['Subjects'].value_counts()\n",
    "top_genres = genre_counts.head(10)\n",
    "top_genres = top_genres.sort_values(ascending=True)\n",
    "plt.figure(figsize=(10, 6))\n",
    "top_genres.plot(kind='barh')\n",
    "plt.title('Top 10 Genres with Most Books')\n",
    "plt.xlabel('Genre')\n",
    "plt.ylabel('Number of Books')\n",
    "plt.show()\n",
    "plt.savefig(\"plots/top_10_genres.png\", dpi=300, bbox_inches='tight')\n"
   ]
  },
  {
   "cell_type": "code",
   "execution_count": 22,
   "metadata": {},
   "outputs": [
    {
     "data": {
      "text/plain": [
       "Subjects\n",
       "[Bandes dessinées]                   16\n",
       "Mangas; Bandes dessinées             16\n",
       "Roman suisse de langue française     20\n",
       "Roman policier                       22\n",
       "Thriller (roman)                     29\n",
       "Roman français                       41\n",
       "Mangas                               78\n",
       "Roman                                95\n",
       "Bandes dessinées; Mangas            100\n",
       "Bandes dessinées                    420\n",
       "Name: count, dtype: int64"
      ]
     },
     "execution_count": 22,
     "metadata": {},
     "output_type": "execute_result"
    }
   ],
   "source": [
    "top_genres"
   ]
  },
  {
   "cell_type": "code",
   "execution_count": null,
   "metadata": {},
   "outputs": [],
   "source": [
    "def create_data_matrix1(data, n_users, n_items):\n",
    "    \"\"\"\n",
    "    This function creates a data matrix with binary values for the interactions, 1 is interaction and 0 is no interaction.\n",
    "    The data matrix is of shape (n_users, n_items). \n",
    "    \"\"\"\n",
    "    data_matrix = np.zeros((n_users, n_items))\n",
    "    data_matrix[data['user_id'].values, data['i'].values] = 1\n",
    "    return data_matrix"
   ]
  },
  {
   "cell_type": "code",
   "execution_count": null,
   "metadata": {},
   "outputs": [],
   "source": [
    "def plot_heatmap1(data_matrix, last_row=50,last_column=50, title=\"Interaction Heatmap\", label={'label':'Interaction (1 = Positive, 0 = None)'}\n",
    "                  xlabel='Item ID', ylabel='User ID'):\n",
    "    \"\"\"\n",
    "    This function plots a heatmap of a matrix.\n",
    "    \"\"\"\n",
    "    matrix_subset = data_matrix[:last_row, :last_column]\n",
    "\n",
    "    plt.figure(figsize=(10, 8))\n",
    "    sns.heatmap(matrix_subset, cmap='YlGnBu', cbar=True,cbar_kws=label)\n",
    "    plt.title(title)\n",
    "    plt.xlabel(xlabel)\n",
    "    plt.ylabel(ylbael)\n",
    "    plt.show()"
   ]
  }
 ],
 "metadata": {
  "kernelspec": {
   "display_name": "Python 3",
   "language": "python",
   "name": "python3"
  },
  "language_info": {
   "codemirror_mode": {
    "name": "ipython",
    "version": 3
   },
   "file_extension": ".py",
   "mimetype": "text/x-python",
   "name": "python",
   "nbconvert_exporter": "python",
   "pygments_lexer": "ipython3",
   "version": "3.11.11"
  }
 },
 "nbformat": 4,
 "nbformat_minor": 2
}
