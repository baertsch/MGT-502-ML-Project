{
 "cells": [
  {
   "cell_type": "markdown",
   "metadata": {},
   "source": [
    "### MGT-502 Final Project\n",
    "# \n",
    "## Exploratory Data Analysis (EDA)\n",
    "__Nadège Baertschi & Zélia Décaillet__\n",
    "\n",
    "_May 2025_"
   ]
  },
  {
   "cell_type": "code",
   "execution_count": 1,
   "metadata": {},
   "outputs": [],
   "source": [
    "import pandas as pd\n",
    "import numpy as np\n",
    "from sklearn.metrics.pairwise import cosine_similarity\n",
    "import matplotlib.pyplot as plt\n",
    "import seaborn as sns"
   ]
  },
  {
   "cell_type": "code",
   "execution_count": 5,
   "metadata": {},
   "outputs": [
    {
     "data": {
      "text/html": [
       "<div>\n",
       "<style scoped>\n",
       "    .dataframe tbody tr th:only-of-type {\n",
       "        vertical-align: middle;\n",
       "    }\n",
       "\n",
       "    .dataframe tbody tr th {\n",
       "        vertical-align: top;\n",
       "    }\n",
       "\n",
       "    .dataframe thead th {\n",
       "        text-align: right;\n",
       "    }\n",
       "</style>\n",
       "<table border=\"1\" class=\"dataframe\">\n",
       "  <thead>\n",
       "    <tr style=\"text-align: right;\">\n",
       "      <th></th>\n",
       "      <th>user_id</th>\n",
       "      <th>i</th>\n",
       "      <th>t</th>\n",
       "    </tr>\n",
       "  </thead>\n",
       "  <tbody>\n",
       "    <tr>\n",
       "      <th>0</th>\n",
       "      <td>4456</td>\n",
       "      <td>8581</td>\n",
       "      <td>1.687541e+09</td>\n",
       "    </tr>\n",
       "    <tr>\n",
       "      <th>1</th>\n",
       "      <td>142</td>\n",
       "      <td>1964</td>\n",
       "      <td>1.679585e+09</td>\n",
       "    </tr>\n",
       "    <tr>\n",
       "      <th>2</th>\n",
       "      <td>362</td>\n",
       "      <td>3705</td>\n",
       "      <td>1.706872e+09</td>\n",
       "    </tr>\n",
       "    <tr>\n",
       "      <th>3</th>\n",
       "      <td>1809</td>\n",
       "      <td>11317</td>\n",
       "      <td>1.673533e+09</td>\n",
       "    </tr>\n",
       "    <tr>\n",
       "      <th>4</th>\n",
       "      <td>4384</td>\n",
       "      <td>1323</td>\n",
       "      <td>1.681402e+09</td>\n",
       "    </tr>\n",
       "  </tbody>\n",
       "</table>\n",
       "</div>"
      ],
      "text/plain": [
       "   user_id      i             t\n",
       "0     4456   8581  1.687541e+09\n",
       "1      142   1964  1.679585e+09\n",
       "2      362   3705  1.706872e+09\n",
       "3     1809  11317  1.673533e+09\n",
       "4     4384   1323  1.681402e+09"
      ]
     },
     "metadata": {},
     "output_type": "display_data"
    },
    {
     "data": {
      "text/html": [
       "<div>\n",
       "<style scoped>\n",
       "    .dataframe tbody tr th:only-of-type {\n",
       "        vertical-align: middle;\n",
       "    }\n",
       "\n",
       "    .dataframe tbody tr th {\n",
       "        vertical-align: top;\n",
       "    }\n",
       "\n",
       "    .dataframe thead th {\n",
       "        text-align: right;\n",
       "    }\n",
       "</style>\n",
       "<table border=\"1\" class=\"dataframe\">\n",
       "  <thead>\n",
       "    <tr style=\"text-align: right;\">\n",
       "      <th></th>\n",
       "      <th>Title</th>\n",
       "      <th>Author</th>\n",
       "      <th>ISBN Valid</th>\n",
       "      <th>Publisher</th>\n",
       "      <th>Subjects</th>\n",
       "      <th>i</th>\n",
       "    </tr>\n",
       "  </thead>\n",
       "  <tbody>\n",
       "    <tr>\n",
       "      <th>0</th>\n",
       "      <td>Classification décimale universelle : édition ...</td>\n",
       "      <td>NaN</td>\n",
       "      <td>9782871303336; 2871303339</td>\n",
       "      <td>Ed du CEFAL</td>\n",
       "      <td>Classification décimale universelle; Indexatio...</td>\n",
       "      <td>0</td>\n",
       "    </tr>\n",
       "    <tr>\n",
       "      <th>1</th>\n",
       "      <td>Les interactions dans l'enseignement des langu...</td>\n",
       "      <td>Cicurel, Francine, 1947-</td>\n",
       "      <td>9782278058327; 2278058320</td>\n",
       "      <td>Didier</td>\n",
       "      <td>didactique--langue étrangère - enseignement; d...</td>\n",
       "      <td>1</td>\n",
       "    </tr>\n",
       "    <tr>\n",
       "      <th>2</th>\n",
       "      <td>Histoire de vie et recherche biographique : pe...</td>\n",
       "      <td>NaN</td>\n",
       "      <td>2343190194; 9782343190198</td>\n",
       "      <td>L'Harmattan</td>\n",
       "      <td>Histoires de vie en sociologie; Sciences socia...</td>\n",
       "      <td>2</td>\n",
       "    </tr>\n",
       "    <tr>\n",
       "      <th>3</th>\n",
       "      <td>Ce livre devrait me permettre de résoudre le c...</td>\n",
       "      <td>Mazas, Sylvain, 1980-</td>\n",
       "      <td>9782365350020; 236535002X; 9782365350488; 2365...</td>\n",
       "      <td>Vraoum!</td>\n",
       "      <td>Moyen-Orient; Bandes dessinées autobiographiqu...</td>\n",
       "      <td>3</td>\n",
       "    </tr>\n",
       "    <tr>\n",
       "      <th>4</th>\n",
       "      <td>Les années glorieuses : roman /</td>\n",
       "      <td>Lemaitre, Pierre, 1951-</td>\n",
       "      <td>9782702180815; 2702180817; 9782702183618; 2702...</td>\n",
       "      <td>Calmann-Lévy</td>\n",
       "      <td>France--1945-1975; Roman historique; Roman fra...</td>\n",
       "      <td>4</td>\n",
       "    </tr>\n",
       "  </tbody>\n",
       "</table>\n",
       "</div>"
      ],
      "text/plain": [
       "                                               Title  \\\n",
       "0  Classification décimale universelle : édition ...   \n",
       "1  Les interactions dans l'enseignement des langu...   \n",
       "2  Histoire de vie et recherche biographique : pe...   \n",
       "3  Ce livre devrait me permettre de résoudre le c...   \n",
       "4                    Les années glorieuses : roman /   \n",
       "\n",
       "                     Author  \\\n",
       "0                       NaN   \n",
       "1  Cicurel, Francine, 1947-   \n",
       "2                       NaN   \n",
       "3     Mazas, Sylvain, 1980-   \n",
       "4   Lemaitre, Pierre, 1951-   \n",
       "\n",
       "                                          ISBN Valid     Publisher  \\\n",
       "0                          9782871303336; 2871303339   Ed du CEFAL   \n",
       "1                          9782278058327; 2278058320        Didier   \n",
       "2                          2343190194; 9782343190198   L'Harmattan   \n",
       "3  9782365350020; 236535002X; 9782365350488; 2365...       Vraoum!   \n",
       "4  9782702180815; 2702180817; 9782702183618; 2702...  Calmann-Lévy   \n",
       "\n",
       "                                            Subjects  i  \n",
       "0  Classification décimale universelle; Indexatio...  0  \n",
       "1  didactique--langue étrangère - enseignement; d...  1  \n",
       "2  Histoires de vie en sociologie; Sciences socia...  2  \n",
       "3  Moyen-Orient; Bandes dessinées autobiographiqu...  3  \n",
       "4  France--1945-1975; Roman historique; Roman fra...  4  "
      ]
     },
     "metadata": {},
     "output_type": "display_data"
    }
   ],
   "source": [
    "# Github repository URL\n",
    "repo_url = \"https://raw.githubusercontent.com/baertsch/MGT-502-ML-Project/main/\"\n",
    "\n",
    "# Load datasets\n",
    "interactions_df = pd.read_csv(repo_url + \"kaggle_data/interactions_train.csv\")\n",
    "interactions_df.rename(columns={\"u\": \"user_id\"}, inplace=True)\n",
    "\n",
    "# Orginal items csv with a lot of missing data\n",
    "items_df = pd.read_csv(repo_url + \"kaggle_data/items.csv\")\n",
    "\n",
    "# Display\n",
    "display(interactions_df.head())\n",
    "display(items_df.head())"
   ]
  },
  {
   "cell_type": "markdown",
   "metadata": {},
   "source": [
    "## Let's explore the data provided by Kaggle"
   ]
  },
  {
   "cell_type": "code",
   "execution_count": 7,
   "metadata": {},
   "outputs": [
    {
     "name": "stdout",
     "output_type": "stream",
     "text": [
      "Number of users in the dataset: 7838\n",
      "Number of items in the dataset: 15291\n"
     ]
    }
   ],
   "source": [
    "n_users = interactions_df[\"user_id\"].nunique()\n",
    "n_items = items_df['i'].nunique()\n",
    "print(f\"Number of users in the dataset: {n_users}\")\n",
    "print(f\"Number of items in the dataset: {n_items}\")"
   ]
  },
  {
   "cell_type": "markdown",
   "metadata": {},
   "source": [
    "### Let's see how the number of interactions per user is distributed"
   ]
  },
  {
   "cell_type": "code",
   "execution_count": 13,
   "metadata": {},
   "outputs": [
    {
     "name": "stdout",
     "output_type": "stream",
     "text": [
      "Average number of interactions per user: 11.11\n",
      "Minimum number of interactions per user: 3\n",
      "Maximum number of interactions per user: 385\n",
      "Median number of interactions per user: 6.00\n"
     ]
    },
    {
     "data": {
      "text/plain": [
       "Text(0, 0.5, 'Frequency')"
      ]
     },
     "execution_count": 13,
     "metadata": {},
     "output_type": "execute_result"
    },
    {
     "data": {
      "image/png": "[encoded data removed]",
      "text/plain": [
       "<Figure size 1500x600 with 1 Axes>"
      ]
     },
     "metadata": {},
     "output_type": "display_data"
    }
   ],
   "source": [
    "interactions_per_user = interactions_df.groupby('user_id').size()\n",
    "print(f\"Average number of interactions per user: {interactions_per_user.mean():.2f}\")\n",
    "print(f\"Minimum number of interactions per user: {interactions_per_user.min()}\")\n",
    "print(f\"Maximum number of interactions per user: {interactions_per_user.max()}\")\n",
    "print(f\"Median number of interactions per user: {interactions_per_user.median():.2f}\")\n",
    "# Plot distribution of interactions per user\n",
    "plt.figure(figsize=(15, 6))\n",
    "sns.histplot(interactions_per_user, bins=200, kde=True)\n",
    "plt.title('Distribution of Interactions per User')\n",
    "plt.xlabel('Number of Interactions')\n",
    "plt.ylabel('Frequency')"
   ]
  },
  {
   "cell_type": "code",
   "execution_count": null,
   "metadata": {},
   "outputs": [],
   "source": [
    "def create_data_matrix1(data, n_users, n_items):\n",
    "    \"\"\"\n",
    "    This function creates a data matrix with binary values for the interactions, 1 is interaction and 0 is no interaction.\n",
    "    The data matrix is of shape (n_users, n_items). \n",
    "    \"\"\"\n",
    "    data_matrix = np.zeros((n_users, n_items))\n",
    "    data_matrix[data['user_id'].values, data['i'].values] = 1\n",
    "    return data_matrix"
   ]
  },
  {
   "cell_type": "code",
   "execution_count": null,
   "metadata": {},
   "outputs": [],
   "source": [
    "def plot_heatmap1(data_matrix, last_row=50,last_column=50, title=\"Interaction Heatmap\", label={'label':'Interaction (1 = Positive, 0 = None)'}\n",
    "                  xlabel='Item ID', ylabel='User ID'):\n",
    "    \"\"\"\n",
    "    This function plots a heatmap of a matrix.\n",
    "    \"\"\"\n",
    "    matrix_subset = data_matrix[:last_row, :last_column]\n",
    "\n",
    "    plt.figure(figsize=(10, 8))\n",
    "    sns.heatmap(matrix_subset, cmap='YlGnBu', cbar=True,cbar_kws=label)\n",
    "    plt.title(title)\n",
    "    plt.xlabel(xlabel)\n",
    "    plt.ylabel(ylbael)\n",
    "    plt.show()"
   ]
  }
 ],
 "metadata": {
  "kernelspec": {
   "display_name": "Python 3",
   "language": "python",
   "name": "python3"
  },
  "language_info": {
   "codemirror_mode": {
    "name": "ipython",
    "version": 3
   },
   "file_extension": ".py",
   "mimetype": "text/x-python",
   "name": "python",
   "nbconvert_exporter": "python",
   "pygments_lexer": "ipython3",
   "version": "3.11.11"
  }
 },
 "nbformat": 4,
 "nbformat_minor": 2
}
